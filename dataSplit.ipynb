{
 "cells": [
  {
   "cell_type": "markdown",
   "metadata": {},
   "source": [
    "Dataset Link : https://www.kaggle.com/datasets/kartik2112/fraud-detection?select=fraudTrain.csv"
   ]
  },
  {
   "cell_type": "markdown",
   "metadata": {},
   "source": [
    "Since Github only allows files of size 100mb max to be uploaded, we split the data into multiple files"
   ]
  },
  {
   "cell_type": "code",
   "execution_count": 1,
   "metadata": {},
   "outputs": [],
   "source": [
    "import numpy as np\n",
    "import pandas as pd\n",
    "\n",
    "import matplotlib.pyplot as plt\n",
    "import seaborn as sns\n",
    "%matplotlib inline"
   ]
  },
  {
   "cell_type": "code",
   "execution_count": 2,
   "metadata": {},
   "outputs": [],
   "source": [
    "df1 = pd.read_csv('fraudTrain.csv',index_col=0)\n",
    "df2 = pd.read_csv('fraudTest.csv',index_col=0)"
   ]
  },
  {
   "cell_type": "code",
   "execution_count": 4,
   "metadata": {},
   "outputs": [],
   "source": [
    "df01 = df1.iloc[:321690]\n",
    "df02 = df1.iloc[321690:643380]\n",
    "df03 = df1.iloc[643380:965070]\n",
    "df04 = df1.iloc[965070:]"
   ]
  },
  {
   "cell_type": "code",
   "execution_count": 5,
   "metadata": {},
   "outputs": [],
   "source": [
    "df05 = df2.iloc[:275000]\n",
    "df06 = df2.iloc[275000:]"
   ]
  },
  {
   "cell_type": "code",
   "execution_count": 6,
   "metadata": {},
   "outputs": [],
   "source": [
    "df01.to_csv('fraudData1.csv')\n",
    "df02.to_csv('fraudData2.csv')\n",
    "df03.to_csv('fraudData3.csv')\n",
    "df04.to_csv('fraudData4.csv')\n",
    "df05.to_csv('fraudData5.csv')\n",
    "df06.to_csv('fraudData6.csv')"
   ]
  }
 ],
 "metadata": {
  "kernelspec": {
   "display_name": "Python 3",
   "language": "python",
   "name": "python3"
  },
  "language_info": {
   "codemirror_mode": {
    "name": "ipython",
    "version": 3
   },
   "file_extension": ".py",
   "mimetype": "text/x-python",
   "name": "python",
   "nbconvert_exporter": "python",
   "pygments_lexer": "ipython3",
   "version": "3.11.7"
  }
 },
 "nbformat": 4,
 "nbformat_minor": 2
}
